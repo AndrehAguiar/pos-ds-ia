{
 "cells": [
  {
   "cell_type": "markdown",
   "metadata": {},
   "source": [
    "por: Matheus Araujo\n",
    "## Resumo da aula:\n",
    "\n",
    "* (80%) Introdução a Classificadores Lineares: Passo a Passo\n",
    "* (20%) Utilizando Classificador linear para iris setosa"
   ]
  },
  {
   "cell_type": "code",
   "execution_count": 655,
   "metadata": {},
   "outputs": [],
   "source": [
    "\n",
    "from numpy.random import normal\n",
    "import pandas as pd\n",
    "import matplotlib.pyplot as plt\n",
    "from sklearn.linear_model import LogisticRegression\n",
    "from sklearn.svm import LinearSVC\n",
    "import numpy as np\n"
   ]
  },
  {
   "cell_type": "code",
   "execution_count": 656,
   "metadata": {},
   "outputs": [
    {
     "name": "stdout",
     "output_type": "stream",
     "text": [
      "        peso        raio    classe\n",
      "0  24.764897  105.633099  vermelho\n",
      "1  24.458972  103.753954  vermelho\n",
      "2  14.702985  111.585538  vermelho\n",
      "3  18.088422  109.537973  vermelho\n",
      "4  27.681234   84.562659  vermelho\n",
      "        peso        raio classe\n",
      "0  44.325320  120.079691   azul\n",
      "1  48.876174  162.624352   azul\n",
      "2  49.699747  154.603636   azul\n",
      "3  48.974547  168.399247   azul\n",
      "4  65.392431  197.854196   azul\n"
     ]
    }
   ],
   "source": [
    "#Criando bolas azuis\n",
    "bolas_azuis = {}\n",
    "azul_peso_media = 45\n",
    "azul_raio_media = 150\n",
    "bolas_azuis[\"peso\"] = normal(azul_peso_media, 10, 100)\n",
    "bolas_azuis[\"raio\"] = normal(azul_raio_media, 20, 100)\n",
    "bolas_azuis[\"classe\"] = \"azul\"\n",
    "bolas_azuis_df = pd.DataFrame(bolas_azuis) \n",
    "\n",
    "#Criando bolas vermelhas\n",
    "bolas_vermelhas = {}\n",
    "vermelho_peso_media = 25\n",
    "vermelho_raio_media = 100\n",
    "bolas_vermelhas[\"peso\"] = normal(vermelho_peso_media, 5, 100)\n",
    "bolas_vermelhas[\"raio\"] = normal(vermelho_raio_media, 15, 100)\n",
    "bolas_vermelhas[\"classe\"] = \"vermelho\"\n",
    "bolas_vermelhas_df = pd.DataFrame(bolas_vermelhas) \n",
    "print(bolas_vermelhas_df.head())\n",
    "print(bolas_azuis_df.head())"
   ]
  },
  {
   "cell_type": "code",
   "execution_count": 657,
   "metadata": {},
   "outputs": [
    {
     "data": {
      "image/png": "[encoded data removed]",
      "text/plain": [
       "<Figure size 432x288 with 1 Axes>"
      ]
     },
     "metadata": {
      "needs_background": "light"
     },
     "output_type": "display_data"
    }
   ],
   "source": [
    "ax = bolas_azuis_df.plot.scatter(\"peso\", \"raio\", c=\"b\")\n",
    "ax = bolas_vermelhas_df.plot.scatter(\"peso\", \"raio\",ax=ax, c=\"r\")"
   ]
  },
  {
   "cell_type": "code",
   "execution_count": 658,
   "metadata": {},
   "outputs": [
    {
     "name": "stdout",
     "output_type": "stream",
     "text": [
      "Numero de bolas: 200, Numero de Colunas: 3\n"
     ]
    }
   ],
   "source": [
    "# Colocando as bolas dentro do mesmo caixa\n",
    "caixa_original_df = pd.concat([bolas_azuis_df, bolas_vermelhas_df])\n",
    "\n",
    "# Certifica que cada bola tem um index unico\n",
    "mapa_cor_classe = {\n",
    "    \"vermelho\" : 1,\n",
    "    \"azul\" : 0\n",
    "}\n",
    "caixa_original_df = caixa_original_df.reset_index()\n",
    "caixa_original_df[\"classe\"] = caixa_original_df[\"classe\"].apply(lambda classe: mapa_cor_classe[classe])\n",
    "print(\"Numero de bolas: {}, Numero de Colunas: {}\".format(bolas_df.shape[0], bolas_df.shape[1]))"
   ]
  },
  {
   "cell_type": "code",
   "execution_count": 659,
   "metadata": {},
   "outputs": [
    {
     "data": {
      "text/html": [
       "<div>\n",
       "<style scoped>\n",
       "    .dataframe tbody tr th:only-of-type {\n",
       "        vertical-align: middle;\n",
       "    }\n",
       "\n",
       "    .dataframe tbody tr th {\n",
       "        vertical-align: top;\n",
       "    }\n",
       "\n",
       "    .dataframe thead th {\n",
       "        text-align: right;\n",
       "    }\n",
       "</style>\n",
       "<table border=\"1\" class=\"dataframe\">\n",
       "  <thead>\n",
       "    <tr style=\"text-align: right;\">\n",
       "      <th></th>\n",
       "      <th>index</th>\n",
       "      <th>peso</th>\n",
       "      <th>raio</th>\n",
       "      <th>classe</th>\n",
       "    </tr>\n",
       "  </thead>\n",
       "  <tbody>\n",
       "    <tr>\n",
       "      <th>35</th>\n",
       "      <td>35</td>\n",
       "      <td>48.655993</td>\n",
       "      <td>170.050937</td>\n",
       "      <td>0</td>\n",
       "    </tr>\n",
       "    <tr>\n",
       "      <th>85</th>\n",
       "      <td>85</td>\n",
       "      <td>36.785225</td>\n",
       "      <td>129.464152</td>\n",
       "      <td>0</td>\n",
       "    </tr>\n",
       "    <tr>\n",
       "      <th>100</th>\n",
       "      <td>0</td>\n",
       "      <td>24.764897</td>\n",
       "      <td>105.633099</td>\n",
       "      <td>1</td>\n",
       "    </tr>\n",
       "    <tr>\n",
       "      <th>74</th>\n",
       "      <td>74</td>\n",
       "      <td>40.829788</td>\n",
       "      <td>165.955053</td>\n",
       "      <td>0</td>\n",
       "    </tr>\n",
       "    <tr>\n",
       "      <th>82</th>\n",
       "      <td>82</td>\n",
       "      <td>48.460476</td>\n",
       "      <td>121.700487</td>\n",
       "      <td>0</td>\n",
       "    </tr>\n",
       "  </tbody>\n",
       "</table>\n",
       "</div>"
      ],
      "text/plain": [
       "     index       peso        raio  classe\n",
       "35      35  48.655993  170.050937       0\n",
       "85      85  36.785225  129.464152       0\n",
       "100      0  24.764897  105.633099       1\n",
       "74      74  40.829788  165.955053       0\n",
       "82      82  48.460476  121.700487       0"
      ]
     },
     "execution_count": 659,
     "metadata": {},
     "output_type": "execute_result"
    }
   ],
   "source": [
    "#Chacoalhando o caixa\n",
    "caixa_original_df = caixa_original_df.sample(frac=1)\n",
    "caixa_original_df.head()"
   ]
  },
  {
   "cell_type": "code",
   "execution_count": 660,
   "metadata": {},
   "outputs": [
    {
     "name": "stdout",
     "output_type": "stream",
     "text": [
      "Bolas na caixa: 120, Bolas na amostra: 80\n"
     ]
    }
   ],
   "source": [
    "#Pegando uma amostra de 10% da caixa e plotando\n",
    "amostra_df = caixa_original_df.sample(n=80) # Pegando amostra \n",
    "caixa_df = caixa_original_df.drop(amostra_df.index) # Removendo bolas da caixa\n",
    "\n",
    "print(\"Bolas na caixa: {}, Bolas na amostra: {}\".format(caixa_df.shape[0], amostra_df.shape[0]))"
   ]
  },
  {
   "cell_type": "markdown",
   "metadata": {},
   "source": [
    "# Voce conseguiria adivinhar qual é classe de cada bola?"
   ]
  },
  {
   "cell_type": "code",
   "execution_count": 661,
   "metadata": {},
   "outputs": [
    {
     "data": {
      "text/plain": [
       "<matplotlib.axes._subplots.AxesSubplot at 0x7f5baf77f518>"
      ]
     },
     "execution_count": 661,
     "metadata": {},
     "output_type": "execute_result"
    },
    {
     "data": {
      "image/png": "[encoded data removed]",
      "text/plain": [
       "<Figure size 432x288 with 1 Axes>"
      ]
     },
     "metadata": {
      "needs_background": "light"
     },
     "output_type": "display_data"
    }
   ],
   "source": [
    "amostra_df.plot.scatter(\"peso\",\"raio\", c=\"k\")"
   ]
  },
  {
   "cell_type": "code",
   "execution_count": 662,
   "metadata": {},
   "outputs": [
    {
     "data": {
      "text/plain": [
       "<matplotlib.axes._subplots.AxesSubplot at 0x7f5bad1e9ef0>"
      ]
     },
     "execution_count": 662,
     "metadata": {},
     "output_type": "execute_result"
    },
    {
     "data": {
      "image/png": "[encoded data removed]",
      "text/plain": [
       "<Figure size 432x288 with 1 Axes>"
      ]
     },
     "metadata": {
      "needs_background": "light"
     },
     "output_type": "display_data"
    }
   ],
   "source": [
    "# Plotando com cor\n",
    "ax = amostra_df[amostra_df[\"classe\"] == 0].plot.scatter(\"peso\", \"raio\", c=\"b\")\n",
    "amostra_df[amostra_df[\"classe\"] == 1].plot.scatter(\"peso\", \"raio\", ax=ax, c=\"r\")\n"
   ]
  },
  {
   "cell_type": "code",
   "execution_count": 663,
   "metadata": {
    "scrolled": true
   },
   "outputs": [
    {
     "name": "stderr",
     "output_type": "stream",
     "text": [
      "/home/matheus/personal_python/lib/python3.7/site-packages/sklearn/linear_model/logistic.py:432: FutureWarning: Default solver will be changed to 'lbfgs' in 0.22. Specify a solver to silence this warning.\n",
      "  FutureWarning)\n"
     ]
    },
    {
     "data": {
      "text/plain": [
       "0.975"
      ]
     },
     "execution_count": 663,
     "metadata": {},
     "output_type": "execute_result"
    }
   ],
   "source": [
    "#É comum usar 42 como random_state (para mais informações consulte\n",
    "#o guia do mochileiro das galáxias.)\n",
    "\n",
    "#Definindo classificador\n",
    "clf = LogisticRegression()\n",
    "\n",
    "# Definindo vetores de features\n",
    "X = amostra_df[[\"peso\", \"raio\"]].values\n",
    "\n",
    "# Definindo vetor da variavel alvo\n",
    "Y = amostra_df[\"classe\"].values\n",
    "\n",
    "# Aplicando o classificador\n",
    "clf.fit(X,Y)\n",
    "clf.score(X,Y)"
   ]
  },
  {
   "cell_type": "code",
   "execution_count": 664,
   "metadata": {},
   "outputs": [],
   "source": [
    "#Função auxiliar para plotar o hiperplano do classificador linear\n",
    "def plot_hiperplano(clf, ax=None):\n",
    "    global amostra_df\n",
    "    w = clf.coef_[0]\n",
    "    # Criando hiperplano (linha)\n",
    "    m = -w[0] / w[1]\n",
    "    xx = np.linspace(amostra_df[\"peso\"].min(), amostra_df[\"peso\"].max())\n",
    "    \n",
    "    # Formula da reta: a*x + by + c = 0\n",
    "    # Logo: y = -ax/b -c/b    \n",
    "    yy = m * xx - (clf.intercept_[0]) / w[1]\n",
    "    # Plotando hiperplano\n",
    "    if ax:\n",
    "        ax.plot(xx, yy)\n",
    "    else:\n",
    "        plt.plot(xx, yy)\n"
   ]
  },
  {
   "cell_type": "code",
   "execution_count": 665,
   "metadata": {
    "scrolled": false
   },
   "outputs": [
    {
     "data": {
      "image/png": "[encoded data removed]",
      "text/plain": [
       "<Figure size 432x288 with 1 Axes>"
      ]
     },
     "metadata": {
      "needs_background": "light"
     },
     "output_type": "display_data"
    }
   ],
   "source": [
    "# Plotando o Classificador linear\n",
    "plot_hiperplano(clf)"
   ]
  },
  {
   "cell_type": "code",
   "execution_count": 666,
   "metadata": {},
   "outputs": [
    {
     "data": {
      "image/png": "[encoded data removed]",
      "text/plain": [
       "<Figure size 432x288 with 1 Axes>"
      ]
     },
     "metadata": {
      "needs_background": "light"
     },
     "output_type": "display_data"
    }
   ],
   "source": [
    "# Plotando o classificador linear junto com nossa amostra\n",
    "ax = amostra_df[amostra_df[\"classe\"] == 0].plot.scatter(\"peso\", \"raio\", c=\"b\")\n",
    "amostra_df[amostra_df[\"classe\"] == 1].plot.scatter(\"peso\", \"raio\", ax=ax, c=\"r\")\n",
    "plot_hiperplano(clf,ax)"
   ]
  },
  {
   "cell_type": "markdown",
   "metadata": {},
   "source": [
    "## Qual é a performance do nosso classificador?"
   ]
  },
  {
   "cell_type": "code",
   "execution_count": 691,
   "metadata": {},
   "outputs": [
    {
     "name": "stdout",
     "output_type": "stream",
     "text": [
      "Acuracia Media 0.975\n"
     ]
    }
   ],
   "source": [
    "print(\"Acuracia Media\", clf.score(X,Y))"
   ]
  },
  {
   "cell_type": "markdown",
   "metadata": {},
   "source": [
    "# Vamos retirar mais bolas"
   ]
  },
  {
   "cell_type": "code",
   "execution_count": 667,
   "metadata": {},
   "outputs": [
    {
     "name": "stdout",
     "output_type": "stream",
     "text": [
      "Bolas na Caixa: 119\n",
      "Bola Removida:\n"
     ]
    },
    {
     "data": {
      "text/plain": [
       "index      35.000000\n",
       "peso       48.655993\n",
       "raio      170.050937\n",
       "classe      0.000000\n",
       "Name: 35, dtype: float64"
      ]
     },
     "execution_count": 667,
     "metadata": {},
     "output_type": "execute_result"
    }
   ],
   "source": [
    "# Pegando primeira bola da caixa e utilizando o classificador\n",
    "bola_x = caixa_df.iloc[0] # Escolhendo bola\n",
    "caixa_df = caixa_df.drop(bola_x.name, errors=\"ignore\") # Removendo bola\n",
    "print(\"Bolas na Caixa: {}\".format(caixa_df.shape[0]))\n",
    "print(\"Bola Removida:\")\n",
    "bola_x"
   ]
  },
  {
   "cell_type": "code",
   "execution_count": 668,
   "metadata": {},
   "outputs": [
    {
     "name": "stdout",
     "output_type": "stream",
     "text": [
      "Classe Prevista: 0\n"
     ]
    }
   ],
   "source": [
    "classe_prevista = clf.predict(bola_x[[\"peso\", \"raio\"]].values.reshape(1,-1))[0]\n",
    "print(\"Classe Prevista: {}\".format(classe_prevista))"
   ]
  },
  {
   "cell_type": "code",
   "execution_count": 669,
   "metadata": {},
   "outputs": [
    {
     "name": "stdout",
     "output_type": "stream",
     "text": [
      "Classe Prevista: azul\n"
     ]
    }
   ],
   "source": [
    "mapa_class_cor = {\n",
    "    1 : \"vermelho\",\n",
    "    0 : \"azul\"\n",
    "}\n",
    "print(\"Classe Prevista: {}\".format(mapa_class_cor[classe_prevista]))"
   ]
  },
  {
   "cell_type": "markdown",
   "metadata": {},
   "source": [
    "# Classificando o resto da caixa"
   ]
  },
  {
   "cell_type": "code",
   "execution_count": 670,
   "metadata": {},
   "outputs": [
    {
     "name": "stdout",
     "output_type": "stream",
     "text": [
      "Bolas na caixa: 119\n"
     ]
    }
   ],
   "source": [
    "print(\"Bolas na caixa: {}\".format(caixa_df.shape[0]))"
   ]
  },
  {
   "cell_type": "code",
   "execution_count": 671,
   "metadata": {},
   "outputs": [
    {
     "name": "stdout",
     "output_type": "stream",
     "text": [
      "Primeiras 10 bolas na caixa são: ['vermelho', 'azul', 'azul', 'azul', 'azul', 'vermelho', 'vermelho', 'azul', 'azul', 'azul']\n"
     ]
    }
   ],
   "source": [
    "bolas_previsoes = clf.predict(caixa_df[[\"peso\", \"raio\"]].values)\n",
    "bolas_previsoes_cores = list(map(lambda classe: mapa_class_cor[classe], bolas_previsoes))\n",
    "print(\"Primeiras 10 bolas na caixa são: {}\".format(bolas_previsoes_cores[:10]))"
   ]
  },
  {
   "cell_type": "code",
   "execution_count": 676,
   "metadata": {},
   "outputs": [
    {
     "data": {
      "text/html": [
       "<div>\n",
       "<style scoped>\n",
       "    .dataframe tbody tr th:only-of-type {\n",
       "        vertical-align: middle;\n",
       "    }\n",
       "\n",
       "    .dataframe tbody tr th {\n",
       "        vertical-align: top;\n",
       "    }\n",
       "\n",
       "    .dataframe thead th {\n",
       "        text-align: right;\n",
       "    }\n",
       "</style>\n",
       "<table border=\"1\" class=\"dataframe\">\n",
       "  <thead>\n",
       "    <tr style=\"text-align: right;\">\n",
       "      <th></th>\n",
       "      <th>index</th>\n",
       "      <th>peso</th>\n",
       "      <th>raio</th>\n",
       "      <th>classe</th>\n",
       "      <th>previsao</th>\n",
       "    </tr>\n",
       "  </thead>\n",
       "  <tbody>\n",
       "    <tr>\n",
       "      <th>100</th>\n",
       "      <td>0</td>\n",
       "      <td>24.764897</td>\n",
       "      <td>105.633099</td>\n",
       "      <td>1</td>\n",
       "      <td>1</td>\n",
       "    </tr>\n",
       "    <tr>\n",
       "      <th>82</th>\n",
       "      <td>82</td>\n",
       "      <td>48.460476</td>\n",
       "      <td>121.700487</td>\n",
       "      <td>0</td>\n",
       "      <td>0</td>\n",
       "    </tr>\n",
       "    <tr>\n",
       "      <th>18</th>\n",
       "      <td>18</td>\n",
       "      <td>45.975930</td>\n",
       "      <td>122.853574</td>\n",
       "      <td>0</td>\n",
       "      <td>0</td>\n",
       "    </tr>\n",
       "    <tr>\n",
       "      <th>6</th>\n",
       "      <td>6</td>\n",
       "      <td>39.653402</td>\n",
       "      <td>111.838551</td>\n",
       "      <td>0</td>\n",
       "      <td>0</td>\n",
       "    </tr>\n",
       "    <tr>\n",
       "      <th>3</th>\n",
       "      <td>3</td>\n",
       "      <td>48.974547</td>\n",
       "      <td>168.399247</td>\n",
       "      <td>0</td>\n",
       "      <td>0</td>\n",
       "    </tr>\n",
       "  </tbody>\n",
       "</table>\n",
       "</div>"
      ],
      "text/plain": [
       "     index       peso        raio  classe  previsao\n",
       "100      0  24.764897  105.633099       1         1\n",
       "82      82  48.460476  121.700487       0         0\n",
       "18      18  45.975930  122.853574       0         0\n",
       "6        6  39.653402  111.838551       0         0\n",
       "3        3  48.974547  168.399247       0         0"
      ]
     },
     "execution_count": 676,
     "metadata": {},
     "output_type": "execute_result"
    }
   ],
   "source": [
    "caixa_df[\"previsao\"] = bolas_previsoes\n",
    "caixa_df.head()"
   ]
  },
  {
   "cell_type": "markdown",
   "metadata": {},
   "source": [
    "## Qual é a performace do nosso classificador para o resto da caixa?\n",
    "\n",
    "**!Importante:** Lembre-se que o classficador foi treinado com as amostras. As bolas dentro da caixa nunca foram vistas antes."
   ]
  },
  {
   "cell_type": "code",
   "execution_count": 704,
   "metadata": {},
   "outputs": [
    {
     "name": "stdout",
     "output_type": "stream",
     "text": [
      "Acuracia média na caixa: 94.12%\n"
     ]
    }
   ],
   "source": [
    "\n",
    "acuracia_media = clf.score(caixa_df[[\"peso\", \"raio\"]].values , caixa_df[[\"classe\"]].values)\n",
    "print(\"Acuracia média na caixa: {:.2f}%\".format(acuracia_media*100))"
   ]
  },
  {
   "cell_type": "markdown",
   "metadata": {},
   "source": [
    "## Desmitificando calculo da acuracia média"
   ]
  },
  {
   "cell_type": "code",
   "execution_count": 705,
   "metadata": {},
   "outputs": [
    {
     "name": "stdout",
     "output_type": "stream",
     "text": [
      "Acertou: 112\n",
      "Errou: 7\n",
      "Acuracia na Caixa: 94.12%\n"
     ]
    }
   ],
   "source": [
    "total = caixa_df.shape[0]\n",
    "acertou = 0\n",
    "for index, bola in caixa_df.iterrows():\n",
    "    if bola[\"classe\"] == bola[\"previsao\"]:\n",
    "        acertou += 1\n",
    "print(\"Acertou: {}\\nErrou: {}\\nAcuracia na Caixa: {:.2f}%\".format(acertou, total - acertou, (acertou/total) * 100))"
   ]
  },
  {
   "cell_type": "code",
   "execution_count": null,
   "metadata": {},
   "outputs": [],
   "source": []
  },
  {
   "cell_type": "code",
   "execution_count": null,
   "metadata": {},
   "outputs": [],
   "source": []
  }
 ],
 "metadata": {
  "kernelspec": {
   "display_name": "Python 3",
   "language": "python",
   "name": "python3"
  },
  "language_info": {
   "codemirror_mode": {
    "name": "ipython",
    "version": 3
   },
   "file_extension": ".py",
   "mimetype": "text/x-python",
   "name": "python",
   "nbconvert_exporter": "python",
   "pygments_lexer": "ipython3",
   "version": "3.7.3"
  }
 },
 "nbformat": 4,
 "nbformat_minor": 2
}

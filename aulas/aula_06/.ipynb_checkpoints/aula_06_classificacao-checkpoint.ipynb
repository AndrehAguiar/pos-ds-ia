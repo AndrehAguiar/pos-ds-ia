{
 "cells": [
  {
   "cell_type": "markdown",
   "metadata": {},
   "source": [
    "por: Matheus Araujo\n",
    "## Resumo da aula:\n",
    "\n",
    "* (80%) Introdução a Classificadores Lineares: Passo a Passo\n",
    "* (20%) Utilizando Classificador linear para iris setosa"
   ]
  },
  {
   "cell_type": "code",
   "execution_count": 1,
   "metadata": {},
   "outputs": [],
   "source": [
    "from numpy.random import normal\n",
    "import pandas as pd\n",
    "import matplotlib.pyplot as plt\n",
    "from sklearn.linear_model import LogisticRegression\n",
    "import numpy as np\n"
   ]
  },
  {
   "cell_type": "code",
   "execution_count": 2,
   "metadata": {},
   "outputs": [
    {
     "name": "stdout",
     "output_type": "stream",
     "text": [
      "        peso        raio    classe\n",
      "0  41.236403  108.493276  vermelho\n",
      "1  32.442135  133.166346  vermelho\n",
      "2  38.729136   83.624624  vermelho\n",
      "3  37.882990   65.837842  vermelho\n",
      "4  32.897491  148.175816  vermelho\n",
      "        peso        raio classe\n",
      "0  42.446671  157.096719   azul\n",
      "1  39.618130  168.670515   azul\n",
      "2  45.990939  151.201135   azul\n",
      "3  47.996078  111.947714   azul\n",
      "4  40.188635  173.657145   azul\n"
     ]
    }
   ],
   "source": [
    "#Criando bolas azuis\n",
    "bolas_azuis = {}\n",
    "azul_peso_media = 50\n",
    "azul_raio_media = 150\n",
    "azul_peso_std = 10\n",
    "azul_raio_std = 30\n",
    "\n",
    "bolas_azuis[\"peso\"] = normal(azul_peso_media, 10, 100)\n",
    "bolas_azuis[\"raio\"] = normal(azul_raio_media, 15, 100)\n",
    "bolas_azuis[\"classe\"] = \"azul\"\n",
    "bolas_azuis_df = pd.DataFrame(bolas_azuis) \n",
    "\n",
    "#Criando bolas vermelhas\n",
    "bolas_vermelhas = {}\n",
    "vermelho_peso_media = 40\n",
    "vermelho_raio_media = 100\n",
    "vermelho_peso_std = 5\n",
    "vermelho_raio_std = 30\n",
    "\n",
    "bolas_vermelhas[\"peso\"] = normal(vermelho_peso_media, vermelho_peso_std, 100)\n",
    "bolas_vermelhas[\"raio\"] = normal(vermelho_raio_media, vermelho_raio_std, 100)\n",
    "bolas_vermelhas[\"classe\"] = \"vermelho\"\n",
    "bolas_vermelhas_df = pd.DataFrame(bolas_vermelhas) \n",
    "print(bolas_vermelhas_df.head())\n",
    "print(bolas_azuis_df.head())"
   ]
  },
  {
   "cell_type": "code",
   "execution_count": 3,
   "metadata": {},
   "outputs": [
    {
     "data": {
      "image/png": "[encoded data removed]",
      "text/plain": [
       "<Figure size 432x288 with 1 Axes>"
      ]
     },
     "metadata": {
      "needs_background": "light"
     },
     "output_type": "display_data"
    }
   ],
   "source": [
    "ax = bolas_azuis_df.plot.scatter(\"peso\", \"raio\", c=\"b\")\n",
    "ax = bolas_vermelhas_df.plot.scatter(\"peso\", \"raio\",ax=ax, c=\"r\")"
   ]
  },
  {
   "cell_type": "code",
   "execution_count": 4,
   "metadata": {},
   "outputs": [
    {
     "name": "stdout",
     "output_type": "stream",
     "text": [
      "Numero de bolas: 200, Numero de Colunas: 3\n"
     ]
    }
   ],
   "source": [
    "# Colocando as bolas dentro do mesmo caixa\n",
    "caixa_original_df = pd.concat([bolas_azuis_df, bolas_vermelhas_df])\n",
    "\n",
    "# Certifica que cada bola tem um index unico\n",
    "mapa_cor_classe = {\n",
    "    \"vermelho\" : 1,\n",
    "    \"azul\" : 0\n",
    "}\n",
    "caixa_original_df = caixa_original_df.reset_index(drop=True)\n",
    "caixa_original_df[\"classe\"] = caixa_original_df[\"classe\"].apply(lambda classe: mapa_cor_classe[classe])\n",
    "print(\"Numero de bolas: {}, Numero de Colunas: {}\".format(caixa_original_df.shape[0], caixa_original_df.shape[1]))"
   ]
  },
  {
   "cell_type": "code",
   "execution_count": 5,
   "metadata": {},
   "outputs": [
    {
     "data": {
      "text/html": [
       "<div>\n",
       "<style scoped>\n",
       "    .dataframe tbody tr th:only-of-type {\n",
       "        vertical-align: middle;\n",
       "    }\n",
       "\n",
       "    .dataframe tbody tr th {\n",
       "        vertical-align: top;\n",
       "    }\n",
       "\n",
       "    .dataframe thead th {\n",
       "        text-align: right;\n",
       "    }\n",
       "</style>\n",
       "<table border=\"1\" class=\"dataframe\">\n",
       "  <thead>\n",
       "    <tr style=\"text-align: right;\">\n",
       "      <th></th>\n",
       "      <th>peso</th>\n",
       "      <th>raio</th>\n",
       "      <th>classe</th>\n",
       "    </tr>\n",
       "  </thead>\n",
       "  <tbody>\n",
       "    <tr>\n",
       "      <th>190</th>\n",
       "      <td>34.250867</td>\n",
       "      <td>127.565434</td>\n",
       "      <td>1</td>\n",
       "    </tr>\n",
       "    <tr>\n",
       "      <th>7</th>\n",
       "      <td>41.238943</td>\n",
       "      <td>145.162484</td>\n",
       "      <td>0</td>\n",
       "    </tr>\n",
       "    <tr>\n",
       "      <th>21</th>\n",
       "      <td>54.697734</td>\n",
       "      <td>153.666492</td>\n",
       "      <td>0</td>\n",
       "    </tr>\n",
       "    <tr>\n",
       "      <th>43</th>\n",
       "      <td>50.835349</td>\n",
       "      <td>132.417910</td>\n",
       "      <td>0</td>\n",
       "    </tr>\n",
       "    <tr>\n",
       "      <th>112</th>\n",
       "      <td>44.048886</td>\n",
       "      <td>118.721855</td>\n",
       "      <td>1</td>\n",
       "    </tr>\n",
       "  </tbody>\n",
       "</table>\n",
       "</div>"
      ],
      "text/plain": [
       "          peso        raio  classe\n",
       "190  34.250867  127.565434       1\n",
       "7    41.238943  145.162484       0\n",
       "21   54.697734  153.666492       0\n",
       "43   50.835349  132.417910       0\n",
       "112  44.048886  118.721855       1"
      ]
     },
     "execution_count": 5,
     "metadata": {},
     "output_type": "execute_result"
    }
   ],
   "source": [
    "#Chacoalhando o caixa\n",
    "caixa_original_df = caixa_original_df.sample(frac=1)\n",
    "caixa_original_df.head()"
   ]
  },
  {
   "cell_type": "code",
   "execution_count": 6,
   "metadata": {},
   "outputs": [
    {
     "name": "stdout",
     "output_type": "stream",
     "text": [
      "Bolas na caixa: 120, Bolas na amostra: 80\n"
     ]
    }
   ],
   "source": [
    "#Pegando uma amostra de 10% da caixa e plotando\n",
    "amostra_df = caixa_original_df.sample(n=80) # Pegando amostra de 50 bolas\n",
    "caixa_df = caixa_original_df.drop(amostra_df.index) # Removendo bolas da caixa\n",
    "\n",
    "print(\"Bolas na caixa: {}, Bolas na amostra: {}\".format(caixa_df.shape[0], amostra_df.shape[0]))"
   ]
  },
  {
   "cell_type": "markdown",
   "metadata": {},
   "source": [
    "# Voce conseguiria adivinhar qual é classe de cada bola?"
   ]
  },
  {
   "cell_type": "code",
   "execution_count": 7,
   "metadata": {},
   "outputs": [
    {
     "data": {
      "text/plain": [
       "<matplotlib.axes._subplots.AxesSubplot at 0x7f9b94932e48>"
      ]
     },
     "execution_count": 7,
     "metadata": {},
     "output_type": "execute_result"
    },
    {
     "data": {
      "image/png": "[encoded data removed]",
      "text/plain": [
       "<Figure size 432x288 with 1 Axes>"
      ]
     },
     "metadata": {
      "needs_background": "light"
     },
     "output_type": "display_data"
    }
   ],
   "source": [
    "amostra_df.plot.scatter(\"peso\",\"raio\", c=\"k\")"
   ]
  },
  {
   "cell_type": "code",
   "execution_count": 8,
   "metadata": {},
   "outputs": [
    {
     "name": "stdout",
     "output_type": "stream",
     "text": [
      "             peso                   raio           \n",
      "             mean        std        mean        std\n",
      "classe                                             \n",
      "0       48.972980  10.419266  149.197741  15.250887\n",
      "1       39.994932   4.923850   88.872893  31.591084\n"
     ]
    },
    {
     "data": {
      "text/plain": [
       "<matplotlib.axes._subplots.AxesSubplot at 0x7f9b8f8d7d30>"
      ]
     },
     "execution_count": 8,
     "metadata": {},
     "output_type": "execute_result"
    },
    {
     "data": {
      "image/png": "[encoded data removed]",
      "text/plain": [
       "<Figure size 432x288 with 1 Axes>"
      ]
     },
     "metadata": {
      "needs_background": "light"
     },
     "output_type": "display_data"
    }
   ],
   "source": [
    "# Imprimindo media e desvio padrão de cada feature na amostra\n",
    "print(amostra_df.groupby(\"classe\").agg([\"mean\", \"std\"]))\n",
    "\n",
    "# Separando bolas azuis e bolas vermelhas da amostra\n",
    "bolas_azuis_amostra = amostra_df[amostra_df[\"classe\"] == 0]\n",
    "bolas_vermelhas_amostra = amostra_df[amostra_df[\"classe\"] == 1]\n",
    "\n",
    "# Mostrando a cor da amostra\n",
    "ax = bolas_azuis_amostra.plot.scatter(\"peso\", \"raio\", c=\"b\")\n",
    "bolas_vermelhas_amostra.plot.scatter(\"peso\", \"raio\", ax=ax, c=\"r\")\n"
   ]
  },
  {
   "cell_type": "code",
   "execution_count": 9,
   "metadata": {
    "scrolled": true
   },
   "outputs": [
    {
     "name": "stderr",
     "output_type": "stream",
     "text": [
      "/home/matheus/personal_python/lib/python3.7/site-packages/sklearn/linear_model/logistic.py:432: FutureWarning: Default solver will be changed to 'lbfgs' in 0.22. Specify a solver to silence this warning.\n",
      "  FutureWarning)\n"
     ]
    },
    {
     "data": {
      "text/plain": [
       "LogisticRegression(C=1.0, class_weight=None, dual=False, fit_intercept=True,\n",
       "                   intercept_scaling=1, l1_ratio=None, max_iter=100,\n",
       "                   multi_class='warn', n_jobs=None, penalty='l2',\n",
       "                   random_state=None, solver='warn', tol=0.0001, verbose=0,\n",
       "                   warm_start=False)"
      ]
     },
     "execution_count": 9,
     "metadata": {},
     "output_type": "execute_result"
    }
   ],
   "source": [
    "#É comum usar 42 como random_state (para mais informações consulte\n",
    "#o guia do mochileiro das galáxias.)\n",
    "\n",
    "#Definindo classificador\n",
    "clf = LogisticRegression()\n",
    "\n",
    "# Definindo vetores de features\n",
    "X = amostra_df[[\"peso\", \"raio\"]].values\n",
    "\n",
    "# Definindo vetor da variavel alvo\n",
    "Y = amostra_df[\"classe\"].values\n",
    "\n",
    "# Treinando o classificador com os dados da amostra\n",
    "clf.fit(X,Y)"
   ]
  },
  {
   "cell_type": "code",
   "execution_count": 10,
   "metadata": {},
   "outputs": [],
   "source": [
    "#Função auxiliar para plotar o hiperplano do classificador linear\n",
    "def plot_hiperplano(clf, ax=None):\n",
    "    global amostra_df\n",
    "    w = clf.coef_[0]\n",
    "    # Criando hiperplano (linha)\n",
    "    m = -w[0] / w[1]\n",
    "    xx = np.linspace(amostra_df[\"peso\"].min(), amostra_df[\"peso\"].max())\n",
    "    \n",
    "    # Formula da reta: a*x + by + c = 0\n",
    "    # Logo: y = -ax/b -c/b    \n",
    "    yy = m * xx - (clf.intercept_[0]) / w[1]\n",
    "    # Plotando hiperplano\n",
    "    if ax:\n",
    "        ax.plot(xx, yy)\n",
    "    else:        \n",
    "        plt.plot(xx, yy)\n",
    "        plt.xlim(amostra_df[\"peso\"].min(), amostra_df[\"peso\"].max())\n",
    "        plt.ylim(amostra_df[\"raio\"].min(), amostra_df[\"raio\"].max())\n",
    "        \n",
    "        \n"
   ]
  },
  {
   "cell_type": "code",
   "execution_count": 11,
   "metadata": {
    "scrolled": false
   },
   "outputs": [
    {
     "data": {
      "image/png": "[encoded data removed]",
      "text/plain": [
       "<Figure size 432x288 with 1 Axes>"
      ]
     },
     "metadata": {
      "needs_background": "light"
     },
     "output_type": "display_data"
    }
   ],
   "source": [
    "# Plotando o Classificador linear\n",
    "plot_hiperplano(clf)"
   ]
  },
  {
   "cell_type": "code",
   "execution_count": 12,
   "metadata": {},
   "outputs": [
    {
     "data": {
      "image/png": "[encoded data removed]",
      "text/plain": [
       "<Figure size 432x288 with 1 Axes>"
      ]
     },
     "metadata": {
      "needs_background": "light"
     },
     "output_type": "display_data"
    }
   ],
   "source": [
    "# Plotando o classificador linear junto com nossa amostra\n",
    "ax = amostra_df[amostra_df[\"classe\"] == 0].plot.scatter(\"peso\", \"raio\", c=\"b\")\n",
    "amostra_df[amostra_df[\"classe\"] == 1].plot.scatter(\"peso\", \"raio\", ax=ax, c=\"r\")\n",
    "plot_hiperplano(clf,ax)"
   ]
  },
  {
   "cell_type": "markdown",
   "metadata": {},
   "source": [
    "## Qual é a performance do nosso classificador na amostra?"
   ]
  },
  {
   "cell_type": "code",
   "execution_count": 13,
   "metadata": {},
   "outputs": [
    {
     "name": "stdout",
     "output_type": "stream",
     "text": [
      "Acuracia Media 0.8375\n"
     ]
    }
   ],
   "source": [
    "acuracia_meadia_amostra = clf.score(X,Y)\n",
    "print(\"Acuracia Media\", acuracia_meadia_amostra)"
   ]
  },
  {
   "cell_type": "markdown",
   "metadata": {},
   "source": [
    "# Vamos retirar mais bolas"
   ]
  },
  {
   "cell_type": "code",
   "execution_count": 14,
   "metadata": {},
   "outputs": [
    {
     "name": "stdout",
     "output_type": "stream",
     "text": [
      "Bolas na Caixa: 119\n",
      "Bola Removida:\n"
     ]
    },
    {
     "data": {
      "text/plain": [
       "peso       34.250867\n",
       "raio      127.565434\n",
       "classe      1.000000\n",
       "Name: 190, dtype: float64"
      ]
     },
     "execution_count": 14,
     "metadata": {},
     "output_type": "execute_result"
    }
   ],
   "source": [
    "# Pegando primeira bola da caixa e utilizando o classificador\n",
    "bola_x = caixa_df.iloc[0] # Escolhendo bola\n",
    "caixa_df = caixa_df.drop(bola_x.name, errors=\"ignore\") # Removendo bola\n",
    "print(\"Bolas na Caixa: {}\".format(caixa_df.shape[0]))\n",
    "print(\"Bola Removida:\")\n",
    "bola_x"
   ]
  },
  {
   "cell_type": "code",
   "execution_count": 15,
   "metadata": {},
   "outputs": [
    {
     "name": "stdout",
     "output_type": "stream",
     "text": [
      "Classe Prevista: 0\n"
     ]
    }
   ],
   "source": [
    "classe_prevista = clf.predict(bola_x[[\"peso\", \"raio\"]].values.reshape(1,-1))[0]\n",
    "print(\"Classe Prevista: {}\".format(classe_prevista))"
   ]
  },
  {
   "cell_type": "code",
   "execution_count": 16,
   "metadata": {},
   "outputs": [
    {
     "name": "stdout",
     "output_type": "stream",
     "text": [
      "Classe Prevista: azul\n"
     ]
    }
   ],
   "source": [
    "mapa_class_cor = {\n",
    "    1 : \"vermelho\",\n",
    "    0 : \"azul\"\n",
    "}\n",
    "print(\"Classe Prevista: {}\".format(mapa_class_cor[classe_prevista]))"
   ]
  },
  {
   "cell_type": "markdown",
   "metadata": {},
   "source": [
    "# Classificando o resto da caixa"
   ]
  },
  {
   "cell_type": "code",
   "execution_count": 17,
   "metadata": {},
   "outputs": [
    {
     "name": "stdout",
     "output_type": "stream",
     "text": [
      "Bolas na caixa: 119\n"
     ]
    }
   ],
   "source": [
    "print(\"Bolas na caixa: {}\".format(caixa_df.shape[0]))"
   ]
  },
  {
   "cell_type": "code",
   "execution_count": 18,
   "metadata": {},
   "outputs": [
    {
     "name": "stdout",
     "output_type": "stream",
     "text": [
      "Primeiras 10 bolas na caixa são: ['azul', 'azul', 'azul', 'vermelho', 'azul', 'azul', 'azul', 'azul', 'azul', 'vermelho']\n"
     ]
    }
   ],
   "source": [
    "bolas_previsoes = clf.predict(caixa_df[[\"peso\", \"raio\"]].values)\n",
    "bolas_previsoes_cores = list(map(lambda classe: mapa_class_cor[classe], bolas_previsoes))\n",
    "print(\"Primeiras 10 bolas na caixa são: {}\".format(bolas_previsoes_cores[:10]))"
   ]
  },
  {
   "cell_type": "code",
   "execution_count": 19,
   "metadata": {},
   "outputs": [
    {
     "data": {
      "text/html": [
       "<div>\n",
       "<style scoped>\n",
       "    .dataframe tbody tr th:only-of-type {\n",
       "        vertical-align: middle;\n",
       "    }\n",
       "\n",
       "    .dataframe tbody tr th {\n",
       "        vertical-align: top;\n",
       "    }\n",
       "\n",
       "    .dataframe thead th {\n",
       "        text-align: right;\n",
       "    }\n",
       "</style>\n",
       "<table border=\"1\" class=\"dataframe\">\n",
       "  <thead>\n",
       "    <tr style=\"text-align: right;\">\n",
       "      <th></th>\n",
       "      <th>peso</th>\n",
       "      <th>raio</th>\n",
       "      <th>classe</th>\n",
       "      <th>previsao</th>\n",
       "    </tr>\n",
       "  </thead>\n",
       "  <tbody>\n",
       "    <tr>\n",
       "      <th>7</th>\n",
       "      <td>41.238943</td>\n",
       "      <td>145.162484</td>\n",
       "      <td>0</td>\n",
       "      <td>0</td>\n",
       "    </tr>\n",
       "    <tr>\n",
       "      <th>43</th>\n",
       "      <td>50.835349</td>\n",
       "      <td>132.417910</td>\n",
       "      <td>0</td>\n",
       "      <td>0</td>\n",
       "    </tr>\n",
       "    <tr>\n",
       "      <th>112</th>\n",
       "      <td>44.048886</td>\n",
       "      <td>118.721855</td>\n",
       "      <td>1</td>\n",
       "      <td>0</td>\n",
       "    </tr>\n",
       "    <tr>\n",
       "      <th>99</th>\n",
       "      <td>54.862084</td>\n",
       "      <td>121.775875</td>\n",
       "      <td>0</td>\n",
       "      <td>1</td>\n",
       "    </tr>\n",
       "    <tr>\n",
       "      <th>115</th>\n",
       "      <td>33.357182</td>\n",
       "      <td>143.821951</td>\n",
       "      <td>1</td>\n",
       "      <td>0</td>\n",
       "    </tr>\n",
       "  </tbody>\n",
       "</table>\n",
       "</div>"
      ],
      "text/plain": [
       "          peso        raio  classe  previsao\n",
       "7    41.238943  145.162484       0         0\n",
       "43   50.835349  132.417910       0         0\n",
       "112  44.048886  118.721855       1         0\n",
       "99   54.862084  121.775875       0         1\n",
       "115  33.357182  143.821951       1         0"
      ]
     },
     "execution_count": 19,
     "metadata": {},
     "output_type": "execute_result"
    }
   ],
   "source": [
    "caixa_df[\"previsao\"] = bolas_previsoes\n",
    "caixa_df.head()"
   ]
  },
  {
   "cell_type": "markdown",
   "metadata": {},
   "source": [
    "## Qual é a performace do nosso classificador para o resto da caixa?\n",
    "\n",
    "**!Importante:** Lembre-se que o classficador foi treinado com as amostras. As bolas dentro da caixa nunca foram vistas antes."
   ]
  },
  {
   "cell_type": "code",
   "execution_count": 20,
   "metadata": {},
   "outputs": [
    {
     "name": "stdout",
     "output_type": "stream",
     "text": [
      "Acuracia média na caixa: 80.67%\n"
     ]
    }
   ],
   "source": [
    "X_caixa = caixa_df[[\"peso\", \"raio\"]].values \n",
    "Y_caixa = caixa_df[[\"classe\"]].values\n",
    "acuracia_media_caixa = clf.score(X_caixa, Y_caixa)\n",
    "print(\"Acuracia média na caixa: {:.2f}%\".format(acuracia_media_caixa*100))"
   ]
  },
  {
   "cell_type": "markdown",
   "metadata": {},
   "source": [
    "## Desmitificando calculo da acuracia média"
   ]
  },
  {
   "cell_type": "code",
   "execution_count": 21,
   "metadata": {
    "scrolled": true
   },
   "outputs": [
    {
     "name": "stdout",
     "output_type": "stream",
     "text": [
      "Acertou: 96\n",
      "Errou: 23\n",
      "Acuracia na Caixa: 80.67%\n"
     ]
    }
   ],
   "source": [
    "total = caixa_df.shape[0]\n",
    "acertou = 0\n",
    "for index, bola in caixa_df.iterrows():\n",
    "    if bola[\"classe\"] == bola[\"previsao\"]:\n",
    "        acertou += 1\n",
    "print(\"Acertou: {}\\nErrou: {}\\nAcuracia na Caixa: {:.2f}%\".format(acertou, total - acertou, (acertou/total) * 100))"
   ]
  },
  {
   "cell_type": "code",
   "execution_count": 24,
   "metadata": {},
   "outputs": [
    {
     "name": "stdout",
     "output_type": "stream",
     "text": [
      "Acuracia Amostra: 0.8375, Acuracia Caixa: 0.8067226890756303 \n"
     ]
    },
    {
     "data": {
      "text/plain": [
       "Text(0.5, 1.0, 'Desempenho do Classificador de Bolas')"
      ]
     },
     "execution_count": 24,
     "metadata": {},
     "output_type": "execute_result"
    },
    {
     "data": {
      "image/png": "[encoded data removed]",
      "text/plain": [
       "<Figure size 432x288 with 1 Axes>"
      ]
     },
     "metadata": {
      "needs_background": "light"
     },
     "output_type": "display_data"
    }
   ],
   "source": [
    "print(\"Acuracia Amostra: {}, Acuracia Caixa: {} \".format(acuracia_meadia_amostra, acuracia_media_caixa))\n",
    "\n",
    "# Utilizando matplotlib para fazer um grafico de barras\n",
    "acuracias_nomes = ['Acc. Amostra', 'Acc. Caixa']\n",
    "y_pos = np.arange(len(acuracias_nomes))\n",
    "acuracias = [acuracia_meadia_amostra, acuracia_media_caixa]\n",
    "plt.bar(y_pos, acuracias, align='center', color=\"r\")\n",
    "\n",
    "# Colocando nomes no eixo\n",
    "plt.xticks(y_pos, acuracias_nomes)\n",
    "plt.ylim(0,1)\n",
    "plt.ylabel('Acurácia Média')\n",
    "plt.title('Desempenho do Classificador de Bolas')"
   ]
  },
  {
   "cell_type": "code",
   "execution_count": null,
   "metadata": {},
   "outputs": [],
   "source": []
  }
 ],
 "metadata": {
  "kernelspec": {
   "display_name": "Python 3",
   "language": "python",
   "name": "python3"
  },
  "language_info": {
   "codemirror_mode": {
    "name": "ipython",
    "version": 3
   },
   "file_extension": ".py",
   "mimetype": "text/x-python",
   "name": "python",
   "nbconvert_exporter": "python",
   "pygments_lexer": "ipython3",
   "version": "3.7.3"
  }
 },
 "nbformat": 4,
 "nbformat_minor": 2
}
